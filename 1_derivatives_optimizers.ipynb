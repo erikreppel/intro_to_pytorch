{
 "cells": [
  {
   "cell_type": "code",
   "execution_count": 1,
   "metadata": {
    "collapsed": true
   },
   "outputs": [],
   "source": [
    "import torch\n",
    "from torch.autograd import Variable\n",
    "%matplotlib inline\n",
    "import matplotlib.pyplot as plt"
   ]
  },
  {
   "cell_type": "markdown",
   "metadata": {},
   "source": [
    "## Variables are tensors that can have their gradients calculated "
   ]
  },
  {
   "cell_type": "code",
   "execution_count": 2,
   "metadata": {},
   "outputs": [
    {
     "name": "stdout",
     "output_type": "stream",
     "text": [
      "Variable containing:\n",
      " 3.7862\n",
      " 4.4644\n",
      " 4.1861\n",
      " 6.6773\n",
      " 5.5691\n",
      "[torch.FloatTensor of size 5]\n",
      " <class 'torch.autograd.variable.Variable'>\n"
     ]
    }
   ],
   "source": [
    "v = torch.rand(5) * 10\n",
    "x = Variable(v, requires_grad=True)\n",
    "print(x, type(x))"
   ]
  },
  {
   "cell_type": "markdown",
   "metadata": {},
   "source": [
    "## Lets create a line to learn"
   ]
  },
  {
   "cell_type": "code",
   "execution_count": 3,
   "metadata": {
    "collapsed": true
   },
   "outputs": [],
   "source": [
    "lin = Variable(torch.FloatTensor(list(range(5))))\n",
    "target =  lin * 2 + 1  # y = 2x + 1"
   ]
  },
  {
   "cell_type": "markdown",
   "metadata": {},
   "source": [
    "## We can calculate the loss between our line and a random vector"
   ]
  },
  {
   "cell_type": "code",
   "execution_count": 5,
   "metadata": {},
   "outputs": [
    {
     "name": "stdout",
     "output_type": "stream",
     "text": [
      "Variable containing:\n",
      " 4.4890\n",
      "[torch.FloatTensor of size 1]\n",
      "\n"
     ]
    }
   ],
   "source": [
    "# loss using MSE\n",
    "loss = (target-x).pow(2).sum() / x.size(0)\n",
    "print(loss)"
   ]
  },
  {
   "cell_type": "markdown",
   "metadata": {},
   "source": [
    "## Backpropogate the error\n",
    "calling `.backward()` on a Variable that has been computed backpropogates the error for all parent variables that require gradients"
   ]
  },
  {
   "cell_type": "code",
   "execution_count": 6,
   "metadata": {},
   "outputs": [],
   "source": [
    "loss.backward()"
   ]
  },
  {
   "cell_type": "markdown",
   "metadata": {},
   "source": [
    "## Gradients of x"
   ]
  },
  {
   "cell_type": "code",
   "execution_count": 7,
   "metadata": {},
   "outputs": [
    {
     "data": {
      "text/plain": [
       "\n",
       " 1.1145\n",
       " 0.5857\n",
       "-0.3256\n",
       "-0.1291\n",
       "-1.3724\n",
       "[torch.FloatTensor of size 5]"
      ]
     },
     "execution_count": 7,
     "metadata": {},
     "output_type": "execute_result"
    }
   ],
   "source": [
    "x.grad.data"
   ]
  },
  {
   "cell_type": "markdown",
   "metadata": {},
   "source": [
    "## Plot of target, random line, dx/dtarget"
   ]
  },
  {
   "cell_type": "code",
   "execution_count": 8,
   "metadata": {},
   "outputs": [
    {
     "data": {
      "text/plain": [
       "[<matplotlib.lines.Line2D at 0x7f51bdabfac8>]"
      ]
     },
     "execution_count": 8,
     "metadata": {},
     "output_type": "execute_result"
    },
    {
     "data": {
      "image/png": "[encoded data removed]",
      "text/plain": [
       "<matplotlib.figure.Figure at 0x7f5167aa2a20>"
      ]
     },
     "metadata": {},
     "output_type": "display_data"
    }
   ],
   "source": [
    "plt.plot(x.data.numpy(), color=\"red\")\n",
    "plt.plot(x.grad.data.numpy(), color=\"blue\")\n",
    "plt.plot(target.data.numpy(), color=\"green\")"
   ]
  },
  {
   "cell_type": "markdown",
   "metadata": {},
   "source": [
    "## Update the x Variable and zero the gradients on x"
   ]
  },
  {
   "cell_type": "code",
   "execution_count": 9,
   "metadata": {},
   "outputs": [
    {
     "data": {
      "text/plain": [
       "\n",
       " 0\n",
       " 0\n",
       " 0\n",
       " 0\n",
       " 0\n",
       "[torch.FloatTensor of size 5]"
      ]
     },
     "execution_count": 9,
     "metadata": {},
     "output_type": "execute_result"
    }
   ],
   "source": [
    "lr = .1\n",
    "x.data -= lr * x.grad.data\n",
    "x.grad.data.zero_()"
   ]
  },
  {
   "cell_type": "markdown",
   "metadata": {},
   "source": [
    "## Plot of x and target after the update"
   ]
  },
  {
   "cell_type": "code",
   "execution_count": 10,
   "metadata": {},
   "outputs": [
    {
     "data": {
      "text/plain": [
       "[<matplotlib.lines.Line2D at 0x7f5167aa2588>]"
      ]
     },
     "execution_count": 10,
     "metadata": {},
     "output_type": "execute_result"
    },
    {
     "data": {
      "image/png": "[encoded data removed]",
      "text/plain": [
       "<matplotlib.figure.Figure at 0x7f5167aa2550>"
      ]
     },
     "metadata": {},
     "output_type": "display_data"
    }
   ],
   "source": [
    "plt.plot(x.data.numpy(), color=\"red\")\n",
    "plt.plot(target.data.numpy(), color=\"green\")"
   ]
  },
  {
   "cell_type": "markdown",
   "metadata": {},
   "source": [
    "## Basic Gradient Decent by hand"
   ]
  },
  {
   "cell_type": "code",
   "execution_count": 11,
   "metadata": {},
   "outputs": [
    {
     "name": "stdout",
     "output_type": "stream",
     "text": [
      "epoch: 0 loss:20.68513298034668\n",
      "epoch: 1 loss:13.238484382629395\n",
      "epoch: 2 loss:8.47262954711914\n",
      "epoch: 3 loss:5.422482490539551\n",
      "epoch: 4 loss:3.470388412475586\n",
      "epoch: 5 loss:2.22104811668396\n",
      "epoch: 6 loss:1.4214714765548706\n",
      "epoch: 7 loss:0.9097416400909424\n",
      "epoch: 8 loss:0.5822347402572632\n",
      "epoch: 9 loss:0.3726300895214081\n",
      "epoch: 10 loss:0.23848313093185425\n",
      "epoch: 11 loss:0.15262936055660248\n",
      "epoch: 12 loss:0.09768278151750565\n",
      "epoch: 13 loss:0.06251713633537292\n",
      "epoch: 14 loss:0.04001099616289139\n",
      "epoch: 15 loss:0.025606965646147728\n",
      "epoch: 16 loss:0.01638842187821865\n",
      "epoch: 17 loss:0.010488629341125488\n",
      "epoch: 18 loss:0.006712697446346283\n",
      "epoch: 19 loss:0.004296125378459692\n",
      "epoch: 20 loss:0.002749545034021139\n",
      "epoch: 21 loss:0.0017596827819943428\n",
      "epoch: 22 loss:0.001126184593886137\n",
      "epoch: 23 loss:0.0007207439048215747\n",
      "loss is now less than 0.001!\n"
     ]
    },
    {
     "data": {
      "image/png": "[encoded data removed]",
      "text/plain": [
       "<matplotlib.figure.Figure at 0x7f515d30f630>"
      ]
     },
     "metadata": {},
     "output_type": "display_data"
    }
   ],
   "source": [
    "lr = .1\n",
    "for i in range(100):\n",
    "\n",
    "    loss = (target-x).pow(2).sum()\n",
    "    print('epoch: {} loss:{}'.format(i, loss.data[0]))\n",
    "    if loss.data[0] < 0.001:  # break if pretty close\n",
    "        print('loss is now less than 0.001!')\n",
    "        break\n",
    "\n",
    "    loss.backward()\n",
    "    x.data = x.data - (lr * x.grad.data)\n",
    "\n",
    "    x.grad.data.zero_()\n",
    "\n",
    "plt.plot(x.data.numpy(), color=\"red\")\n",
    "plt.plot(target.data.numpy(), color=\"green\")\n",
    "plt.show()\n",
    "    \n"
   ]
  },
  {
   "cell_type": "markdown",
   "metadata": {
    "collapsed": true
   },
   "source": [
    "## Using built in optimizers"
   ]
  },
  {
   "cell_type": "code",
   "execution_count": 12,
   "metadata": {
    "collapsed": true
   },
   "outputs": [],
   "source": [
    "import torch.optim as optim"
   ]
  },
  {
   "cell_type": "code",
   "execution_count": 16,
   "metadata": {
    "collapsed": true
   },
   "outputs": [],
   "source": [
    "x = Variable(torch.rand(5) * 10, requires_grad=True)\n",
    "lin = Variable(torch.FloatTensor(list(range(5))))\n",
    "target =  lin * 2 + 1  # y = 2x + 1"
   ]
  },
  {
   "cell_type": "markdown",
   "metadata": {},
   "source": [
    "All optimizers base off of `torch.optim.Optimizer` and only need to implement `__init__` and `step()`, and maintain the convention of `params` and `lr` being the first two constructor parameters.\n",
    "\n",
    "This means its really easy to use different optimizers for models, you just change one line"
   ]
  },
  {
   "cell_type": "code",
   "execution_count": 17,
   "metadata": {},
   "outputs": [],
   "source": [
    "# optimizers all take an iterable of things to update, lr is usually optional\n",
    "# try a few out!\n",
    "\n",
    "optimizer = optim.SGD([x], lr=0.1)\n",
    "# optimizer = optim.Adam([x], lr=0.1)\n",
    "# optimizer = optim.RMSprop([x], lr=.1)\n",
    "# optimizer = optim.Adamax([x], lr=.1)"
   ]
  },
  {
   "cell_type": "code",
   "execution_count": 18,
   "metadata": {},
   "outputs": [
    {
     "name": "stdout",
     "output_type": "stream",
     "text": [
      "epoch: 0 loss:66.84162902832031\n",
      "epoch: 1 loss:42.77864456176758\n",
      "epoch: 2 loss:27.378334045410156\n",
      "epoch: 3 loss:17.522132873535156\n",
      "epoch: 4 loss:11.214166641235352\n",
      "epoch: 5 loss:7.177066326141357\n",
      "epoch: 6 loss:4.593321800231934\n",
      "epoch: 7 loss:2.939725875854492\n",
      "epoch: 8 loss:1.8814237117767334\n",
      "epoch: 9 loss:1.2041112184524536\n",
      "epoch: 10 loss:0.7706310153007507\n",
      "epoch: 11 loss:0.4932037889957428\n",
      "epoch: 12 loss:0.31565061211586\n",
      "epoch: 13 loss:0.20201651751995087\n",
      "epoch: 14 loss:0.1292903572320938\n",
      "epoch: 15 loss:0.08274582773447037\n",
      "epoch: 16 loss:0.05295742675662041\n",
      "epoch: 17 loss:0.033892836421728134\n",
      "epoch: 18 loss:0.02169151045382023\n",
      "epoch: 19 loss:0.013882598839700222\n",
      "epoch: 20 loss:0.008884910494089127\n",
      "epoch: 21 loss:0.0056863222271203995\n",
      "epoch: 22 loss:0.0036392745096236467\n",
      "epoch: 23 loss:0.002329153474420309\n",
      "epoch: 24 loss:0.0014906395226716995\n",
      "epoch: 25 loss:0.0009540097671560943\n",
      "loss is now less than 0.001!\n"
     ]
    },
    {
     "data": {
      "image/png": "[encoded data removed]",
      "text/plain": [
       "<matplotlib.figure.Figure at 0x7f515d1babe0>"
      ]
     },
     "metadata": {},
     "output_type": "display_data"
    }
   ],
   "source": [
    "for i in range(1000):\n",
    "    loss = (target-x).pow(2).sum()\n",
    "    print('epoch: {} loss:{}'.format(i, loss.data[0]))\n",
    "    if loss.data[0] < 0.001:  # break if pretty close\n",
    "        print('loss is now less than 0.001!')\n",
    "        break\n",
    "    \n",
    "    loss.backward()\n",
    "    optimizer.step()\n",
    "    optimizer.zero_grad()\n",
    "\n",
    "plt.plot(x.data.numpy(), color=\"red\")\n",
    "plt.plot(target.data.numpy(), color=\"green\")\n",
    "plt.show()"
   ]
  }
 ],
 "metadata": {
  "kernelspec": {
   "display_name": "Python 3",
   "language": "python",
   "name": "python3"
  },
  "language_info": {
   "codemirror_mode": {
    "name": "ipython",
    "version": 3
   },
   "file_extension": ".py",
   "mimetype": "text/x-python",
   "name": "python",
   "nbconvert_exporter": "python",
   "pygments_lexer": "ipython3",
   "version": "3.6.2"
  }
 },
 "nbformat": 4,
 "nbformat_minor": 2
}
