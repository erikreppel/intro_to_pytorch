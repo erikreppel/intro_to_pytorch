{
 "cells": [
  {
   "cell_type": "code",
   "execution_count": 1,
   "metadata": {
    "collapsed": true
   },
   "outputs": [],
   "source": [
    "import torch\n",
    "from torch.autograd import Variable\n",
    "%matplotlib inline\n",
    "import matplotlib.pyplot as plt"
   ]
  },
  {
   "cell_type": "markdown",
   "metadata": {},
   "source": [
    "## Variables are tensors that can have their gradients calculated "
   ]
  },
  {
   "cell_type": "code",
   "execution_count": 2,
   "metadata": {},
   "outputs": [
    {
     "name": "stdout",
     "output_type": "stream",
     "text": [
      "Variable containing:\n",
      " 5.8270\n",
      " 2.3339\n",
      " 9.2495\n",
      " 2.4208\n",
      " 5.7055\n",
      "[torch.FloatTensor of size 5]\n",
      " <class 'torch.autograd.variable.Variable'>\n"
     ]
    }
   ],
   "source": [
    "v = torch.rand(5) * 10\n",
    "x = Variable(v, requires_grad=True)\n",
    "print(x, type(x))"
   ]
  },
  {
   "cell_type": "markdown",
   "metadata": {},
   "source": [
    "## Lets create a line to learn"
   ]
  },
  {
   "cell_type": "code",
   "execution_count": 3,
   "metadata": {
    "collapsed": true
   },
   "outputs": [],
   "source": [
    "lin = Variable(torch.FloatTensor(list(range(5))))\n",
    "target =  lin * 2 + 1  # y = 2x + 1"
   ]
  },
  {
   "cell_type": "markdown",
   "metadata": {},
   "source": [
    "## We can calculate the loss between our line and a random vector"
   ]
  },
  {
   "cell_type": "code",
   "execution_count": 4,
   "metadata": {},
   "outputs": [
    {
     "name": "stdout",
     "output_type": "stream",
     "text": [
      "Variable containing:\n",
      " 14.7248\n",
      "[torch.FloatTensor of size 1]\n",
      "\n"
     ]
    }
   ],
   "source": [
    "# loss using MSE\n",
    "loss = (target-x).pow(2).sum() / x.size(0)\n",
    "print(loss)"
   ]
  },
  {
   "cell_type": "markdown",
   "metadata": {},
   "source": [
    "## Backpropogate the error\n",
    "calling `.backward()` on a Variable that has been computed backpropogates the error for all parent variables that require gradients"
   ]
  },
  {
   "cell_type": "code",
   "execution_count": 5,
   "metadata": {},
   "outputs": [],
   "source": [
    "loss.backward()"
   ]
  },
  {
   "cell_type": "markdown",
   "metadata": {},
   "source": [
    "## Gradients of x"
   ]
  },
  {
   "cell_type": "code",
   "execution_count": 6,
   "metadata": {},
   "outputs": [
    {
     "data": {
      "text/plain": [
       "\n",
       " 1.9308\n",
       "-0.2664\n",
       " 1.6998\n",
       "-1.8317\n",
       "-1.3178\n",
       "[torch.FloatTensor of size 5]"
      ]
     },
     "execution_count": 6,
     "metadata": {},
     "output_type": "execute_result"
    }
   ],
   "source": [
    "x.grad.data"
   ]
  },
  {
   "cell_type": "markdown",
   "metadata": {},
   "source": [
    "## Plot of target, random line, dx/dtarget"
   ]
  },
  {
   "cell_type": "code",
   "execution_count": 7,
   "metadata": {},
   "outputs": [
    {
     "data": {
      "text/plain": [
       "[<matplotlib.lines.Line2D at 0x7f88b1879b00>]"
      ]
     },
     "execution_count": 7,
     "metadata": {},
     "output_type": "execute_result"
    },
    {
     "data": {
      "image/png": "[encoded data removed]",
      "text/plain": [
       "<matplotlib.figure.Figure at 0x7f885b802b00>"
      ]
     },
     "metadata": {},
     "output_type": "display_data"
    }
   ],
   "source": [
    "plt.plot(x.data.numpy(), color=\"red\")\n",
    "plt.plot(x.grad.data.numpy(), color=\"blue\")\n",
    "plt.plot(target.data.numpy(), color=\"green\")"
   ]
  },
  {
   "cell_type": "markdown",
   "metadata": {},
   "source": [
    "## Update the x Variable and zero the gradients on x"
   ]
  },
  {
   "cell_type": "code",
   "execution_count": 8,
   "metadata": {},
   "outputs": [
    {
     "data": {
      "text/plain": [
       "\n",
       " 0\n",
       " 0\n",
       " 0\n",
       " 0\n",
       " 0\n",
       "[torch.FloatTensor of size 5]"
      ]
     },
     "execution_count": 8,
     "metadata": {},
     "output_type": "execute_result"
    }
   ],
   "source": [
    "lr = .1\n",
    "x.data -= lr * x.grad.data\n",
    "x.grad.data.zero_()"
   ]
  },
  {
   "cell_type": "markdown",
   "metadata": {},
   "source": [
    "## Plot of x and target after the update"
   ]
  },
  {
   "cell_type": "code",
   "execution_count": 9,
   "metadata": {},
   "outputs": [
    {
     "data": {
      "text/plain": [
       "[<matplotlib.lines.Line2D at 0x7f885b802978>]"
      ]
     },
     "execution_count": 9,
     "metadata": {},
     "output_type": "execute_result"
    },
    {
     "data": {
      "image/png": "[encoded data removed]",
      "text/plain": [
       "<matplotlib.figure.Figure at 0x7f885b8029b0>"
      ]
     },
     "metadata": {},
     "output_type": "display_data"
    }
   ],
   "source": [
    "plt.plot(x.data.numpy(), color=\"red\")\n",
    "plt.plot(target.data.numpy(), color=\"green\")"
   ]
  },
  {
   "cell_type": "markdown",
   "metadata": {},
   "source": [
    "## Basic Gradient Decent by hand"
   ]
  },
  {
   "cell_type": "code",
   "execution_count": 10,
   "metadata": {},
   "outputs": [
    {
     "name": "stdout",
     "output_type": "stream",
     "text": [
      "epoch: 0 loss:67.85208892822266\n",
      "epoch: 1 loss:43.42534255981445\n",
      "epoch: 2 loss:27.792217254638672\n",
      "epoch: 3 loss:17.787019729614258\n",
      "epoch: 4 loss:11.383691787719727\n",
      "epoch: 5 loss:7.285562038421631\n",
      "epoch: 6 loss:4.662759304046631\n",
      "epoch: 7 loss:2.984166145324707\n",
      "epoch: 8 loss:1.909866213798523\n",
      "epoch: 9 loss:1.2223145961761475\n",
      "epoch: 10 loss:0.7822818160057068\n",
      "epoch: 11 loss:0.5006605386734009\n",
      "epoch: 12 loss:0.3204224407672882\n",
      "epoch: 13 loss:0.20507021248340607\n",
      "epoch: 14 loss:0.1312449872493744\n",
      "epoch: 15 loss:0.0839969739317894\n",
      "epoch: 16 loss:0.05375806242227554\n",
      "epoch: 17 loss:0.03440515697002411\n",
      "epoch: 18 loss:0.022019295021891594\n",
      "epoch: 19 loss:0.014092342928051949\n",
      "epoch: 20 loss:0.009019099175930023\n",
      "epoch: 21 loss:0.005772233474999666\n",
      "epoch: 22 loss:0.0036942174192517996\n",
      "epoch: 23 loss:0.0023643120657652617\n",
      "epoch: 24 loss:0.001513176248408854\n",
      "epoch: 25 loss:0.0009684514370746911\n",
      "loss is now less than 0.001!\n"
     ]
    },
    {
     "data": {
      "image/png": "[encoded data removed]",
      "text/plain": [
       "<matplotlib.figure.Figure at 0x7f8851076f98>"
      ]
     },
     "metadata": {},
     "output_type": "display_data"
    }
   ],
   "source": [
    "lr = .1\n",
    "for i in range(100):\n",
    "\n",
    "    loss = (target-x).pow(2).sum()\n",
    "    print('epoch: {} loss:{}'.format(i, loss.data[0]))\n",
    "    if loss.data[0] < 0.001:  # break if pretty close\n",
    "        print('loss is now less than 0.001!')\n",
    "        break\n",
    "\n",
    "    loss.backward()\n",
    "    x.data = x.data - (lr * x.grad.data)\n",
    "\n",
    "    x.grad.data.zero_()\n",
    "\n",
    "plt.plot(x.data.numpy(), color=\"red\")\n",
    "plt.plot(target.data.numpy(), color=\"green\")\n",
    "plt.show()\n",
    "    \n"
   ]
  },
  {
   "cell_type": "markdown",
   "metadata": {
    "collapsed": true
   },
   "source": [
    "## Using built in optimizers"
   ]
  },
  {
   "cell_type": "code",
   "execution_count": 11,
   "metadata": {
    "collapsed": true
   },
   "outputs": [],
   "source": [
    "import torch.optim as optim"
   ]
  },
  {
   "cell_type": "code",
   "execution_count": 12,
   "metadata": {
    "collapsed": true
   },
   "outputs": [],
   "source": [
    "x = Variable(torch.rand(5) * 10, requires_grad=True)\n",
    "lin = Variable(torch.FloatTensor(list(range(5))))\n",
    "target =  lin * 2 + 1  # y = 2x + 1"
   ]
  },
  {
   "cell_type": "markdown",
   "metadata": {},
   "source": [
    "All optimizers base off of `torch.optim.Optimizer` and only need to implement `__init__` and `step()`, and maintain the convention of `params` and `lr` being the first two constructor parameters.\n",
    "\n",
    "This means its really easy to use different optimizers for models, you just change one line"
   ]
  },
  {
   "cell_type": "code",
   "execution_count": 13,
   "metadata": {},
   "outputs": [],
   "source": [
    "# optimizers all take an iterable of things to update, lr is usually optional\n",
    "# try a few out!\n",
    "\n",
    "optimizer = optim.SGD([x], lr=0.1)\n",
    "# optimizer = optim.Adam([x], lr=0.1)\n",
    "# optimizer = optim.RMSprop([x], lr=.1)\n",
    "# optimizer = optim.Adamax([x], lr=.1)"
   ]
  },
  {
   "cell_type": "code",
   "execution_count": 14,
   "metadata": {},
   "outputs": [
    {
     "name": "stdout",
     "output_type": "stream",
     "text": [
      "epoch: 0 loss:37.750083923339844\n",
      "epoch: 1 loss:24.160057067871094\n",
      "epoch: 2 loss:15.46243667602539\n",
      "epoch: 3 loss:9.89595890045166\n",
      "epoch: 4 loss:6.333414077758789\n",
      "epoch: 5 loss:4.053383827209473\n",
      "epoch: 6 loss:2.594165563583374\n",
      "epoch: 7 loss:1.6602652072906494\n",
      "epoch: 8 loss:1.0625698566436768\n",
      "epoch: 9 loss:0.6800445914268494\n",
      "epoch: 10 loss:0.4352286756038666\n",
      "epoch: 11 loss:0.2785465121269226\n",
      "epoch: 12 loss:0.17826984822750092\n",
      "epoch: 13 loss:0.11409251391887665\n",
      "epoch: 14 loss:0.07301920652389526\n",
      "epoch: 15 loss:0.046732403337955475\n",
      "epoch: 16 loss:0.029908811673521996\n",
      "epoch: 17 loss:0.019141709432005882\n",
      "epoch: 18 loss:0.01225076150149107\n",
      "epoch: 19 loss:0.007840456441044807\n",
      "epoch: 20 loss:0.005017839837819338\n",
      "epoch: 21 loss:0.0032114076893776655\n",
      "epoch: 22 loss:0.002055322751402855\n",
      "epoch: 23 loss:0.0013154298067092896\n",
      "epoch: 24 loss:0.0008418791694566607\n",
      "loss is now less than 0.001!\n"
     ]
    },
    {
     "data": {
      "image/png": "[encoded data removed]",
      "text/plain": [
       "<matplotlib.figure.Figure at 0x7f88510a61d0>"
      ]
     },
     "metadata": {},
     "output_type": "display_data"
    }
   ],
   "source": [
    "for i in range(1000):\n",
    "    loss = (target-x).pow(2).sum()\n",
    "    print('epoch: {} loss:{}'.format(i, loss.data[0]))\n",
    "    if loss.data[0] < 0.001:  # break if pretty close\n",
    "        print('loss is now less than 0.001!')\n",
    "        break\n",
    "    \n",
    "    loss.backward()\n",
    "    optimizer.step()\n",
    "    optimizer.zero_grad()\n",
    "\n",
    "plt.plot(x.data.numpy(), color=\"red\")\n",
    "plt.plot(target.data.numpy(), color=\"green\")\n",
    "plt.show()"
   ]
  }
 ],
 "metadata": {
  "kernelspec": {
   "display_name": "Python 3",
   "language": "python",
   "name": "python3"
  },
  "language_info": {
   "codemirror_mode": {
    "name": "ipython",
    "version": 3
   },
   "file_extension": ".py",
   "mimetype": "text/x-python",
   "name": "python",
   "nbconvert_exporter": "python",
   "pygments_lexer": "ipython3",
   "version": "3.6.2"
  }
 },
 "nbformat": 4,
 "nbformat_minor": 2
}
