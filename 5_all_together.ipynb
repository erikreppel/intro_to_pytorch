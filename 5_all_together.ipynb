{
 "cells": [
  {
   "cell_type": "markdown",
   "metadata": {},
   "source": [
    "# Lets train and test a model all the way!"
   ]
  },
  {
   "cell_type": "code",
   "execution_count": 18,
   "metadata": {
    "collapsed": true
   },
   "outputs": [],
   "source": [
    "import torch\n",
    "import torch.nn as nn\n",
    "import torch.nn.functional as F\n",
    "from torch.autograd import Variable\n",
    "\n",
    "from utils import SimpleClassifier, FashionMNIST"
   ]
  },
  {
   "cell_type": "markdown",
   "metadata": {},
   "source": [
    "## Load our data"
   ]
  },
  {
   "cell_type": "code",
   "execution_count": 2,
   "metadata": {},
   "outputs": [],
   "source": [
    "FASHION_DIR = '/home/erikreppel/data/fashion-mnist/'\n",
    "train = FashionMNIST(FASHION_DIR)\n",
    "test = FashionMNIST(FASHION_DIR, kind='test')\n",
    "\n",
    "batch_size = 128\n",
    "\n",
    "train_loader = torch.utils.data.DataLoader(dataset=train,\n",
    "                                           batch_size=batch_size,\n",
    "                                           shuffle=True)\n",
    "test_loader = torch.utils.data.DataLoader(dataset=test,\n",
    "                                          batch_size=batch_size,\n",
    "                                          shuffle=True)"
   ]
  },
  {
   "cell_type": "code",
   "execution_count": 9,
   "metadata": {
    "collapsed": true
   },
   "outputs": [],
   "source": [
    "n_classes = 10\n",
    "n_features = 28*28\n",
    "n_examples = len(train_loader)\n",
    "hidden_size = 1024\n",
    "\n",
    "# Use to toggle GPU usage\n",
    "USE_GPU = torch.cuda.is_available()\n",
    "\n",
    "# Declare model, criterion, optimizer\n",
    "model = SimpleClassifier(n_features, hidden_size, n_classes)\n",
    "\n",
    "criterion = nn.CrossEntropyLoss()\n",
    "optimizer = torch.optim.Adam(model.parameters(), lr=0.01)\n",
    "\n",
    "if USE_GPU:\n",
    "    criterion = criterion.cuda()\n",
    "    model = model.cuda()"
   ]
  },
  {
   "cell_type": "code",
   "execution_count": 36,
   "metadata": {},
   "outputs": [],
   "source": [
    "def train(model, optimizer, criterion, data):\n",
    "    model.train()\n",
    "    total_loss = 0.0\n",
    "    for i, (X, y) in enumerate(data):\n",
    "        # our model is expecting batches of 1D inputs\n",
    "        X = Variable(X.float())\n",
    "        y = Variable(y)\n",
    "        \n",
    "        if USE_GPU:\n",
    "            X = X.cuda()\n",
    "            y = y.cuda()\n",
    "        \n",
    "        y_hat = model(X)\n",
    "        loss = criterion(y_hat, y)\n",
    "        total_loss += loss.data[0]\n",
    "    \n",
    "        # backprop error, update weights, zero old grads\n",
    "        loss.backward()\n",
    "        optimizer.step()\n",
    "        optimizer.zero_grad()\n",
    "    \n",
    "    avg_loss = total_loss / len(data)\n",
    "#     print('Training avg loss: {:.4f}'.format(avg_loss))\n",
    "    return avg_loss\n",
    "\n",
    "def test(model, optimizer, criterion, data):\n",
    "    model.eval()\n",
    "    total_loss = 0.0\n",
    "    correct = 0\n",
    "    n_samples = 0.\n",
    "\n",
    "    for i, (X, y) in enumerate(data):\n",
    "        # our model is expecting batches of 1D inputs\n",
    "        X = Variable(X.float())\n",
    "        y = Variable(y)\n",
    "        \n",
    "        if USE_GPU:\n",
    "            X = X.cuda()\n",
    "            y = y.cuda()\n",
    "        \n",
    "        y_hat = model(X)\n",
    "        loss = criterion(y_hat, y)\n",
    "        \n",
    "        # metrics\n",
    "        total_loss += loss.data[0]\n",
    "        m = y_hat.data.max(1)[1]\n",
    "        c = (m == y.data).sum()\n",
    "#         print(c)\n",
    "        correct += c\n",
    "        n_samples += len(y)\n",
    "        \n",
    "        # backprop error, update weights, zero old grads\n",
    "\n",
    "    avg_loss = total_loss / len(data)\n",
    "    accuracy = correct / n_samples\n",
    "    print('Avg loss: {:.4f}, Accuracy: ({}/{}) {}'.format(\n",
    "        avg_loss, correct, n_samples, accuracy\n",
    "    ))\n",
    "    return avg_loss, accuracy\n",
    "    "
   ]
  },
  {
   "cell_type": "code",
   "execution_count": 81,
   "metadata": {},
   "outputs": [],
   "source": [
    "def eval_model(n_epoch, model, optimizer, criterion, train_loader, test_loader):\n",
    "    train_losses = []\n",
    "    test_losses = []\n",
    "    test_accs = []\n",
    "    for epoch in range(1, n_epoch+1):\n",
    "        train_loss = train(model, optimizer, criterion, train_loader)\n",
    "        train_losses.append(train_loss)\n",
    "\n",
    "        if epoch % 2 == 0 or epoch == 1:\n",
    "            print('*' * 80)\n",
    "            print('Epoch: {} test results:'.format(epoch))\n",
    "            test_loss, test_acc = test(model, optimizer, criterion, test_loader)\n",
    "            test_losses.append(test_loss)\n",
    "            test_accs.append(test_acc)"
   ]
  },
  {
   "cell_type": "code",
   "execution_count": 12,
   "metadata": {},
   "outputs": [
    {
     "name": "stdout",
     "output_type": "stream",
     "text": [
      "********************************************************************************\n",
      "Epoch: 1 test results:\n",
      "Avg loss: 2.1039, Accuracy: (3456/10000.0) 0.3456\n",
      "********************************************************************************\n",
      "Epoch: 5 test results:\n",
      "Avg loss: 2.1160, Accuracy: (3254/10000.0) 0.3254\n",
      "********************************************************************************\n",
      "Epoch: 10 test results:\n",
      "Avg loss: 2.0853, Accuracy: (3666/10000.0) 0.3666\n",
      "********************************************************************************\n",
      "Epoch: 15 test results:\n",
      "Avg loss: 2.1066, Accuracy: (3473/10000.0) 0.3473\n",
      "********************************************************************************\n",
      "Epoch: 20 test results:\n",
      "Avg loss: 2.0922, Accuracy: (3632/10000.0) 0.3632\n"
     ]
    }
   ],
   "source": [
    "eval_model(20, model, optimizer, criterion, train_loader, test_loader)"
   ]
  },
  {
   "cell_type": "markdown",
   "metadata": {},
   "source": [
    "### Our little 2 layer model was never going to do well with this data, lets make a better one!"
   ]
  },
  {
   "cell_type": "markdown",
   "metadata": {},
   "source": [
    "First we need to re-define our dataset (prev returning vectors, now want images)\n",
    "\n",
    "We could edit `FashionMNIST` or we an use the MNIST dataset from torch vision\n",
    "\n",
    "Note: this only works because Fashion MNIST is a direct drop in replacement for MNIST"
   ]
  },
  {
   "cell_type": "code",
   "execution_count": 67,
   "metadata": {},
   "outputs": [],
   "source": [
    "from torchvision.datasets import MNIST\n",
    "\n",
    "#\n",
    "class FashionMNIST2D(MNIST):\n",
    "    '''Implement Dataset with FashionMnist'''\n",
    "    urls = [\n",
    "        'http://fashion-mnist.s3-website.eu-central-1.amazonaws.com/train-images-idx3-ubyte.gz',\n",
    "        'http://fashion-mnist.s3-website.eu-central-1.amazonaws.com/train-labels-idx1-ubyte.gz',\n",
    "        'http://fashion-mnist.s3-website.eu-central-1.amazonaws.com/t10k-images-idx3-ubyte.gz',\n",
    "        'http://fashion-mnist.s3-website.eu-central-1.amazonaws.com/t10k-labels-idx1-ubyte.gz',\n",
    "    ]"
   ]
  },
  {
   "cell_type": "code",
   "execution_count": 50,
   "metadata": {},
   "outputs": [],
   "source": [
    "class FashionModel(nn.Module):\n",
    "    def __init__(self):\n",
    "        super(FashionModel, self).__init__()\n",
    "        self.conv1 = nn.Conv2d(1, 10, kernel_size=5)\n",
    "        self.conv2 = nn.Conv2d(10, 20, kernel_size=5)\n",
    "\n",
    "        self.conv2_drop = nn.Dropout2d()\n",
    "\n",
    "        self.fc1 = nn.Linear(320, 50)\n",
    "        self.fc2 = nn.Linear(50, 10)\n",
    "\n",
    "    def forward(self, x):\n",
    "        x = F.relu(F.max_pool2d(self.conv1(x), 2))\n",
    "        x = F.relu(F.max_pool2d(self.conv2_drop(self.conv2(x)), 2))\n",
    "\n",
    "        x = x.view(-1, 320)\n",
    "        x = F.relu(self.fc1(x))\n",
    "        x = F.dropout(x, training=self.training)\n",
    "        x = self.fc2(x)\n",
    "        return F.log_softmax(x)"
   ]
  },
  {
   "cell_type": "code",
   "execution_count": 86,
   "metadata": {},
   "outputs": [],
   "source": [
    "from torchvision import transforms\n",
    "\n",
    "FASHION_DIR = '/home/erikreppel/data/fashion-mnist/'\n",
    "MNIST_DIR = '/home/erikreppel/data/mnist/'\n",
    "\n",
    "trainset = FashionMNIST2D(FASHION_DIR, download=True,\n",
    "            transform=transforms.Compose([\n",
    "                transforms.ToTensor(),\n",
    "                transforms.Normalize((0.1307,), (0.3081,))\n",
    "            ]))\n",
    "testset = FashionMNIST2D(FASHION_DIR, train=False, download=True,\n",
    "                                    transform=transforms.Compose([\n",
    "                transforms.ToTensor(),\n",
    "                transforms.Normalize((0.1307,), (0.3081,))\n",
    "            ]))\n",
    "\n",
    "# trainset = MNIST(MNIST_DIR, download=True,\n",
    "#             transform=transforms.Compose([\n",
    "#                 transforms.ToTensor(),\n",
    "#                 transforms.Normalize((0.1307,), (0.3081,))\n",
    "#             ]))\n",
    "# testset = MNIST(MNIST_DIR, train=False, download=True,\n",
    "#             transform=transforms.Compose([\n",
    "#                 transforms.ToTensor(),\n",
    "#                 transforms.Normalize((0.1307,), (0.3081,))\n",
    "#             ]))\n",
    "\n",
    "batch_size = 256\n",
    "\n",
    "train_loader = torch.utils.data.DataLoader(dataset=trainset,\n",
    "                                           batch_size=batch_size,\n",
    "                                           shuffle=True)\n",
    "test_loader = torch.utils.data.DataLoader(dataset=testset,\n",
    "                                          batch_size=batch_size,\n",
    "                                          shuffle=True)"
   ]
  },
  {
   "cell_type": "code",
   "execution_count": 87,
   "metadata": {
    "collapsed": true
   },
   "outputs": [],
   "source": [
    "model = FashionModel()\n",
    "\n",
    "criterion = nn.CrossEntropyLoss()\n",
    "optimizer = torch.optim.Adam(model.parameters(), lr=0.01)\n",
    "\n",
    "if USE_GPU:\n",
    "    criterion = criterion.cuda()\n",
    "    model = model.cuda()"
   ]
  },
  {
   "cell_type": "code",
   "execution_count": 88,
   "metadata": {},
   "outputs": [
    {
     "name": "stdout",
     "output_type": "stream",
     "text": [
      "********************************************************************************\n",
      "Epoch: 1 test results:\n",
      "Avg loss: 0.5390, Accuracy: (7876/10000.0) 0.7876\n",
      "********************************************************************************\n",
      "Epoch: 2 test results:\n",
      "Avg loss: 0.4913, Accuracy: (8044/10000.0) 0.8044\n",
      "********************************************************************************\n",
      "Epoch: 4 test results:\n",
      "Avg loss: 0.4696, Accuracy: (8234/10000.0) 0.8234\n",
      "********************************************************************************\n",
      "Epoch: 6 test results:\n",
      "Avg loss: 0.4460, Accuracy: (8323/10000.0) 0.8323\n",
      "********************************************************************************\n",
      "Epoch: 8 test results:\n",
      "Avg loss: 0.4572, Accuracy: (8258/10000.0) 0.8258\n",
      "********************************************************************************\n",
      "Epoch: 10 test results:\n",
      "Avg loss: 0.4639, Accuracy: (8231/10000.0) 0.8231\n"
     ]
    }
   ],
   "source": [
    "eval_model(10, model, optimizer, criterion, train_loader, test_loader)"
   ]
  },
  {
   "cell_type": "markdown",
   "metadata": {},
   "source": [
    "## Note:\n",
    "`FashionMNIST` model scores 96.03% on MNIST after 10 epochs, and 82.31% on Fashion MNIST, mostly because Fashion MNIST is just a harder dataset"
   ]
  },
  {
   "cell_type": "code",
   "execution_count": null,
   "metadata": {
    "collapsed": true
   },
   "outputs": [],
   "source": []
  }
 ],
 "metadata": {
  "kernelspec": {
   "display_name": "Python 3",
   "language": "python",
   "name": "python3"
  },
  "language_info": {
   "codemirror_mode": {
    "name": "ipython",
    "version": 3
   },
   "file_extension": ".py",
   "mimetype": "text/x-python",
   "name": "python",
   "nbconvert_exporter": "python",
   "pygments_lexer": "ipython3",
   "version": "3.6.2"
  }
 },
 "nbformat": 4,
 "nbformat_minor": 2
}
