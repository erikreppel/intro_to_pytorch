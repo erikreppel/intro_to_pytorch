{
 "cells": [
  {
   "cell_type": "markdown",
   "metadata": {},
   "source": [
    "# Using GPUs"
   ]
  },
  {
   "cell_type": "code",
   "execution_count": 1,
   "metadata": {
    "collapsed": true
   },
   "outputs": [],
   "source": [
    "import torch\n",
    "import torch.nn as nn\n",
    "from torch.autograd import Variable"
   ]
  },
  {
   "cell_type": "markdown",
   "metadata": {},
   "source": [
    "PyTorch lets you control where tensors live by calling `.cuda()` on them"
   ]
  },
  {
   "cell_type": "code",
   "execution_count": 2,
   "metadata": {
    "collapsed": true
   },
   "outputs": [],
   "source": [
    "a = torch.rand(5, 5)\n",
    "b = torch.rand(5, 1).cuda()"
   ]
  },
  {
   "cell_type": "code",
   "execution_count": 3,
   "metadata": {},
   "outputs": [
    {
     "name": "stdout",
     "output_type": "stream",
     "text": [
      "<class 'torch.FloatTensor'> <class 'torch.cuda.FloatTensor'>\n"
     ]
    },
    {
     "ename": "TypeError",
     "evalue": "mul received an invalid combination of arguments - got (torch.cuda.FloatTensor), but expected one of:\n * (float value)\n      didn't match because some of the arguments have invalid types: (\u001b[31;1mtorch.cuda.FloatTensor\u001b[0m)\n * (torch.FloatTensor other)\n      didn't match because some of the arguments have invalid types: (\u001b[31;1mtorch.cuda.FloatTensor\u001b[0m)\n",
     "output_type": "error",
     "traceback": [
      "\u001b[0;31m---------------------------------------------------------------------------\u001b[0m",
      "\u001b[0;31mTypeError\u001b[0m                                 Traceback (most recent call last)",
      "\u001b[0;32m<ipython-input-3-85f98f837dcb>\u001b[0m in \u001b[0;36m<module>\u001b[0;34m()\u001b[0m\n\u001b[1;32m      1\u001b[0m \u001b[0;31m# Tensors must be on the same device (CPU or GPU) to be operable\u001b[0m\u001b[0;34m\u001b[0m\u001b[0;34m\u001b[0m\u001b[0m\n\u001b[1;32m      2\u001b[0m \u001b[0mprint\u001b[0m\u001b[0;34m(\u001b[0m\u001b[0mtype\u001b[0m\u001b[0;34m(\u001b[0m\u001b[0ma\u001b[0m\u001b[0;34m)\u001b[0m\u001b[0;34m,\u001b[0m \u001b[0mtype\u001b[0m\u001b[0;34m(\u001b[0m\u001b[0mb\u001b[0m\u001b[0;34m)\u001b[0m\u001b[0;34m)\u001b[0m\u001b[0;34m\u001b[0m\u001b[0m\n\u001b[0;32m----> 3\u001b[0;31m \u001b[0ma\u001b[0m \u001b[0;34m*\u001b[0m \u001b[0mb\u001b[0m\u001b[0;34m\u001b[0m\u001b[0m\n\u001b[0m",
      "\u001b[0;32m~/miniconda3/envs/ml/lib/python3.6/site-packages/torch/tensor.py\u001b[0m in \u001b[0;36m__mul__\u001b[0;34m(self, other)\u001b[0m\n\u001b[1;32m    307\u001b[0m \u001b[0;34m\u001b[0m\u001b[0m\n\u001b[1;32m    308\u001b[0m     \u001b[0;32mdef\u001b[0m \u001b[0m__mul__\u001b[0m\u001b[0;34m(\u001b[0m\u001b[0mself\u001b[0m\u001b[0;34m,\u001b[0m \u001b[0mother\u001b[0m\u001b[0;34m)\u001b[0m\u001b[0;34m:\u001b[0m\u001b[0;34m\u001b[0m\u001b[0m\n\u001b[0;32m--> 309\u001b[0;31m         \u001b[0;32mreturn\u001b[0m \u001b[0mself\u001b[0m\u001b[0;34m.\u001b[0m\u001b[0mmul\u001b[0m\u001b[0;34m(\u001b[0m\u001b[0mother\u001b[0m\u001b[0;34m)\u001b[0m\u001b[0;34m\u001b[0m\u001b[0m\n\u001b[0m\u001b[1;32m    310\u001b[0m     \u001b[0m__rmul__\u001b[0m \u001b[0;34m=\u001b[0m \u001b[0m__mul__\u001b[0m\u001b[0;34m\u001b[0m\u001b[0m\n\u001b[1;32m    311\u001b[0m \u001b[0;34m\u001b[0m\u001b[0m\n",
      "\u001b[0;31mTypeError\u001b[0m: mul received an invalid combination of arguments - got (torch.cuda.FloatTensor), but expected one of:\n * (float value)\n      didn't match because some of the arguments have invalid types: (\u001b[31;1mtorch.cuda.FloatTensor\u001b[0m)\n * (torch.FloatTensor other)\n      didn't match because some of the arguments have invalid types: (\u001b[31;1mtorch.cuda.FloatTensor\u001b[0m)\n"
     ]
    }
   ],
   "source": [
    "# Tensors must be on the same device (CPU or GPU) to be operable\n",
    "print(type(a), type(b))\n",
    "a * b"
   ]
  },
  {
   "cell_type": "code",
   "execution_count": 4,
   "metadata": {},
   "outputs": [
    {
     "data": {
      "text/plain": [
       "\n",
       " 0.0018  0.0046  0.0045  0.0021  0.0018\n",
       " 0.1332  0.0613  0.1232  0.0492  0.0889\n",
       " 0.4706  0.3584  0.2654  0.3702  0.3083\n",
       " 0.2998  0.8990  0.3629  0.0214  0.5706\n",
       " 0.0360  0.2900  0.1733  0.3438  0.3504\n",
       "[torch.cuda.FloatTensor of size 5x5 (GPU 0)]"
      ]
     },
     "execution_count": 4,
     "metadata": {},
     "output_type": "execute_result"
    }
   ],
   "source": [
    "a.cuda() * b"
   ]
  },
  {
   "cell_type": "code",
   "execution_count": 5,
   "metadata": {
    "collapsed": true
   },
   "outputs": [],
   "source": [
    "from utils import SimpleClassifier, FashionMNIST"
   ]
  },
  {
   "cell_type": "code",
   "execution_count": 6,
   "metadata": {
    "collapsed": true
   },
   "outputs": [],
   "source": [
    "FASHION_DIR = '/home/erikreppel/data/fashion-mnist/'\n",
    "train = FashionMNIST(FASHION_DIR)\n",
    "test = FashionMNIST(FASHION_DIR, kind='test')\n",
    "\n",
    "batch_size = 64\n",
    "\n",
    "train_loader = torch.utils.data.DataLoader(dataset=train,\n",
    "                                           batch_size=batch_size,\n",
    "                                           shuffle=True)\n",
    "test_loader = torch.utils.data.DataLoader(dataset=test,\n",
    "                                          batch_size=batch_size,\n",
    "                                          shuffle=True)"
   ]
  },
  {
   "cell_type": "code",
   "execution_count": 7,
   "metadata": {},
   "outputs": [],
   "source": [
    "# constants\n",
    "n_classes = 10\n",
    "n_features = 28*28\n",
    "n_examples = len(train_loader)\n",
    "hidden_size = 512\n",
    "\n",
    "n_epoch = 5\n",
    "\n",
    "# Use to toggle GPU usage\n",
    "USE_GPU = torch.cuda.is_available()\n",
    "\n",
    "# Declare model, criterion, optimizer\n",
    "model = SimpleClassifier(n_features, hidden_size, n_classes)\n",
    "\n",
    "criterion = nn.CrossEntropyLoss()\n",
    "if USE_GPU:\n",
    "    criterion = criterion.cuda()\n",
    "optimizer = torch.optim.Adam(model.parameters())"
   ]
  },
  {
   "cell_type": "markdown",
   "metadata": {},
   "source": [
    "## Recall that 5 epochs took ~71s on my 8 core / 16 thread CPU"
   ]
  },
  {
   "cell_type": "markdown",
   "metadata": {},
   "source": [
    "Note the very minimal changes needed to train using a GPU:\n",
    "\n",
    "- Move model to GPU\n",
    "- Move Variables to GPU\n",
    "- (optional) Move criterion to GPU"
   ]
  },
  {
   "cell_type": "code",
   "execution_count": 8,
   "metadata": {},
   "outputs": [
    {
     "name": "stdout",
     "output_type": "stream",
     "text": [
      "Avg loss: 1.8126810761148742\n",
      "Avg loss: 1.7711367692266191\n",
      "Avg loss: 1.7623431233963225\n",
      "Avg loss: 1.7588119209448159\n",
      "Avg loss: 1.7566844987462578\n",
      "Took 10.049s\n"
     ]
    }
   ],
   "source": [
    "import time\n",
    "\n",
    "model.train()\n",
    "if USE_GPU: model.cuda()\n",
    "\n",
    "start = time.time()\n",
    "\n",
    "for epoch in range(1, n_epoch+1):\n",
    "    total_loss = 0.0\n",
    "    for i, (X, y) in enumerate(train_loader):\n",
    "        # our model is expecting batches of 1D inputs\n",
    "        X = Variable(X.float())\n",
    "        y = Variable(y)\n",
    "        \n",
    "        if USE_GPU:\n",
    "            X = X.cuda()\n",
    "            y = y.cuda()\n",
    "        \n",
    "        y_hat = model(X)\n",
    "        loss = criterion(y_hat, y)\n",
    "        total_loss += loss.data[0]\n",
    "    \n",
    "        # backprop error, update weights, zero old grads\n",
    "        loss.backward()\n",
    "        optimizer.step()\n",
    "        optimizer.zero_grad()\n",
    "\n",
    "    print('Avg loss: {}'.format(total_loss / len(train_loader)))\n",
    "    \n",
    "print('Took {:.3f}s'.format(time.time() - start))"
   ]
  },
  {
   "cell_type": "markdown",
   "metadata": {},
   "source": [
    "### The larger the size of the model the more it pays off to have it on GPU\n",
    "\n",
    "A few stats:\n",
    "\n",
    "|Batch Size|Hidden Size| Time taken CPU (s)| Time taken GPU (s)|\n",
    "|---|--- |---    |---    |\n",
    "|32 |256 |45.149 |16.819 |\n",
    "|32 |512 |80.357 |17.196 |\n",
    "|64 |512 |41.201 |9.639  |\n",
    "|128|1024|49.248 |5.827  |\n",
    "|256|2048|66.144 |4.066  |\n",
    "|max|2048|28.104 |2.389  |"
   ]
  }
 ],
 "metadata": {
  "kernelspec": {
   "display_name": "Python 3",
   "language": "python",
   "name": "python3"
  },
  "language_info": {
   "codemirror_mode": {
    "name": "ipython",
    "version": 3
   },
   "file_extension": ".py",
   "mimetype": "text/x-python",
   "name": "python",
   "nbconvert_exporter": "python",
   "pygments_lexer": "ipython3",
   "version": "3.6.2"
  }
 },
 "nbformat": 4,
 "nbformat_minor": 2
}
