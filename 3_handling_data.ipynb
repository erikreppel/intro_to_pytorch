{
 "cells": [
  {
   "cell_type": "markdown",
   "metadata": {},
   "source": [
    "# Data in PyTorch\n",
    "\n",
    "PyTorch has two main classes that deal with data, `Dataset` and `Dataloader`.\n",
    "\n",
    "A `Dataloader` is a generator that returns parts of a `Dataset` and helps with things like batching"
   ]
  },
  {
   "cell_type": "code",
   "execution_count": 1,
   "metadata": {
    "collapsed": true
   },
   "outputs": [],
   "source": [
    "import torch\n",
    "import torch.utils.data as data\n",
    "from torch.autograd import Variable\n",
    "import torch.nn as nn\n",
    "import torch.nn.functional as F"
   ]
  },
  {
   "cell_type": "markdown",
   "metadata": {},
   "source": [
    "## Dataset must implement `__len__` and `__getitem__`"
   ]
  },
  {
   "cell_type": "code",
   "execution_count": 2,
   "metadata": {},
   "outputs": [],
   "source": [
    "import numpy as np\n",
    "import gzip\n",
    "import os\n",
    "\n",
    "class FashionMNIST(data.Dataset):\n",
    "    def __init__(self, fashionmnist_dir, kind='train'):\n",
    "        if kind == 'test':\n",
    "            kind = 't10k'\n",
    "        \n",
    "        labels_path = os.path.join(fashionmnist_dir, '%s-labels-idx1-ubyte.gz' % kind)\n",
    "        images_path = os.path.join(fashionmnist_dir, '%s-images-idx3-ubyte.gz' % kind)\n",
    "        \n",
    "        with gzip.open(labels_path, 'rb') as lbpath:\n",
    "            labels = np.frombuffer(lbpath.read(), dtype=np.uint8, offset=8)\n",
    "\n",
    "        with gzip.open(images_path, 'rb') as imgpath:\n",
    "            images = np.frombuffer(imgpath.read(), dtype=np.uint8, offset=16).reshape(len(labels), 784)\n",
    "        \n",
    "        self.labels = torch.from_numpy(labels).long()\n",
    "        self.images = torch.from_numpy(images)\n",
    "\n",
    "    def __len__(self):\n",
    "        return len(self.labels)\n",
    "    \n",
    "    def __getitem__(self, i):\n",
    "        return self.images[i], self.labels[i]"
   ]
  },
  {
   "cell_type": "markdown",
   "metadata": {},
   "source": [
    "## Fashion MNIST label\n",
    "| Label | Description |\n",
    "| --- | --- |\n",
    "| 0 | T-shirt/top |\n",
    "| 1 | Trouser |\n",
    "| 2 | Pullover |\n",
    "| 3 | Dress |\n",
    "| 4 | Coat |\n",
    "| 5 | Sandal |\n",
    "| 6 | Shirt |\n",
    "| 7 | Sneaker |\n",
    "| 8 | Bag |\n",
    "| 9 | Ankle boot |"
   ]
  },
  {
   "cell_type": "code",
   "execution_count": 3,
   "metadata": {},
   "outputs": [],
   "source": [
    "%matplotlib inline\n",
    "import matplotlib.pyplot as plt\n",
    "\n",
    "def show_torch_image(img):\n",
    "    plt.imshow(img.view(28, 28).numpy(), cmap='Greys')\n",
    "    plt.show()"
   ]
  },
  {
   "cell_type": "code",
   "execution_count": 4,
   "metadata": {},
   "outputs": [],
   "source": [
    "FASHION_DIR = '/home/erikreppel/data/fashion-mnist/'\n",
    "train = FashionMNIST(FASHION_DIR)\n",
    "test = FashionMNIST(FASHION_DIR, kind='test')"
   ]
  },
  {
   "cell_type": "code",
   "execution_count": 5,
   "metadata": {},
   "outputs": [
    {
     "data": {
      "image/png": "[encoded data removed]",
      "text/plain": [
       "<matplotlib.figure.Figure at 0x7f7c6c5468d0>"
      ]
     },
     "metadata": {},
     "output_type": "display_data"
    },
    {
     "name": "stdout",
     "output_type": "stream",
     "text": [
      "Class: 8\n"
     ]
    },
    {
     "data": {
      "image/png": "[encoded data removed]",
      "text/plain": [
       "<matplotlib.figure.Figure at 0x7f7cc22b1dd8>"
      ]
     },
     "metadata": {},
     "output_type": "display_data"
    },
    {
     "name": "stdout",
     "output_type": "stream",
     "text": [
      "Class: 6\n"
     ]
    }
   ],
   "source": [
    "x, y = train[100]\n",
    "x2, y2 = test[101]\n",
    "show_torch_image(x)\n",
    "print('Class:', y)\n",
    "\n",
    "show_torch_image(x2)\n",
    "print('Class:', y2)"
   ]
  },
  {
   "cell_type": "markdown",
   "metadata": {},
   "source": [
    "## Now we can make dataloaders"
   ]
  },
  {
   "cell_type": "code",
   "execution_count": 6,
   "metadata": {},
   "outputs": [],
   "source": [
    "batch_size = 32\n",
    "\n",
    "train_loader = torch.utils.data.DataLoader(dataset=train,\n",
    "                                           batch_size=batch_size,\n",
    "                                           shuffle=True)\n",
    "test_loader = torch.utils.data.DataLoader(dataset=test,\n",
    "                                          batch_size=batch_size,\n",
    "                                          shuffle=True)"
   ]
  },
  {
   "cell_type": "markdown",
   "metadata": {},
   "source": [
    "## Lets train that simple classifier we build in 2"
   ]
  },
  {
   "cell_type": "code",
   "execution_count": 7,
   "metadata": {},
   "outputs": [],
   "source": [
    "from utils import SimpleClassifier"
   ]
  },
  {
   "cell_type": "code",
   "execution_count": 8,
   "metadata": {
    "collapsed": true
   },
   "outputs": [],
   "source": [
    "n_classes = 10\n",
    "n_features = 28*28\n",
    "n_examples = len(train_loader)\n",
    "hidden_size = 512\n",
    "\n",
    "model = SimpleClassifier(n_features, hidden_size, n_classes)\n",
    "\n",
    "criterion = nn.CrossEntropyLoss()\n",
    "optimizer = torch.optim.Adam(model.parameters())"
   ]
  },
  {
   "cell_type": "code",
   "execution_count": 9,
   "metadata": {},
   "outputs": [
    {
     "name": "stdout",
     "output_type": "stream",
     "text": [
      "Avg loss: 1.8780754948298137\n",
      "Avg loss: 1.8452030564626059\n",
      "Avg loss: 1.8337594259262084\n",
      "Avg loss: 1.8195721928278605\n",
      "Avg loss: 1.8108612883885702\n",
      "Took 75.268s\n"
     ]
    }
   ],
   "source": [
    "import time\n",
    "\n",
    "n_epoch = 5\n",
    "model.train()\n",
    "\n",
    "start = time.time()\n",
    "\n",
    "for epoch in range(1, n_epoch+1):\n",
    "    total_loss = 0.0\n",
    "    for i, (X, y) in enumerate(train_loader):\n",
    "        # our model is expecting batches of 1D inputs\n",
    "        X = Variable(X.float())\n",
    "        y = Variable(y)\n",
    "        \n",
    "        y_hat = model(X)\n",
    "        loss = criterion(y_hat, y)\n",
    "        total_loss += loss.data[0]\n",
    "    \n",
    "        # backprop error, update weights, zero old grads\n",
    "        loss.backward()\n",
    "        optimizer.step()\n",
    "        optimizer.zero_grad()\n",
    "\n",
    "    print('Avg loss: {}'.format(total_loss / len(train_loader)))\n",
    "    \n",
    "print('Took {:.3f}s'.format(time.time() - start))"
   ]
  }
 ],
 "metadata": {
  "kernelspec": {
   "display_name": "Python 3",
   "language": "python",
   "name": "python3"
  },
  "language_info": {
   "codemirror_mode": {
    "name": "ipython",
    "version": 3
   },
   "file_extension": ".py",
   "mimetype": "text/x-python",
   "name": "python",
   "nbconvert_exporter": "python",
   "pygments_lexer": "ipython3",
   "version": "3.6.2"
  }
 },
 "nbformat": 4,
 "nbformat_minor": 2
}
