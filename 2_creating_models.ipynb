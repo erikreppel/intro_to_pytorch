{
 "cells": [
  {
   "cell_type": "code",
   "execution_count": 13,
   "metadata": {
    "collapsed": true
   },
   "outputs": [],
   "source": [
    "import torch\n",
    "from torch.autograd import Variable\n",
    "import torch.nn as nn\n",
    "import torch.nn.functional as F"
   ]
  },
  {
   "cell_type": "markdown",
   "metadata": {},
   "source": [
    "## Models and layers extend `nn.Module` and implement `__init__` and `forward`"
   ]
  },
  {
   "cell_type": "code",
   "execution_count": 2,
   "metadata": {
    "collapsed": true
   },
   "outputs": [],
   "source": [
    "class SimpleClassifier(nn.Module):\n",
    "    def __init__(self, in_dim, h_dim, out_dim):\n",
    "        super(SimpleClassifier, self).__init__()\n",
    "        self.l1 = nn.Linear(in_dim, h_dim)\n",
    "        self.l2 = nn.Linear(h_dim, out_dim)\n",
    "    \n",
    "    def forward(self, x):\n",
    "        x = self.l1(x)\n",
    "        x = F.sigmoid(x)\n",
    "        \n",
    "        x = F.softmax(self.l2(x))\n",
    "        return x"
   ]
  },
  {
   "cell_type": "code",
   "execution_count": 3,
   "metadata": {
    "collapsed": true
   },
   "outputs": [],
   "source": [
    "# Constants for cleanliness\n",
    "n_classes = 5\n",
    "n_features = 3\n",
    "n_examples = 5\n",
    "hidden_size = 4"
   ]
  },
  {
   "cell_type": "markdown",
   "metadata": {},
   "source": [
    "## Create an instance of our model"
   ]
  },
  {
   "cell_type": "code",
   "execution_count": 4,
   "metadata": {
    "collapsed": true
   },
   "outputs": [],
   "source": [
    "model = SimpleClassifier(n_features, hidden_size, n_classes)"
   ]
  },
  {
   "cell_type": "markdown",
   "metadata": {},
   "source": [
    "## Create some random data. Data fed to models must be `Variable`s"
   ]
  },
  {
   "cell_type": "code",
   "execution_count": 5,
   "metadata": {},
   "outputs": [],
   "source": [
    "x_train = Variable(torch.rand(n_examples, n_features))\n",
    "# Create a tensor of n_examples length with random integers of value up to the n_classes\n",
    "# this is just what is expected by loss functions that work with softmax\n",
    "y_train = Variable(torch.LongTensor(n_examples).random_(n_classes))"
   ]
  },
  {
   "cell_type": "code",
   "execution_count": 6,
   "metadata": {},
   "outputs": [
    {
     "name": "stdout",
     "output_type": "stream",
     "text": [
      "Variable containing:\n",
      " 0.2265  0.7369  0.5146\n",
      " 0.1940  0.1915  0.2595\n",
      " 0.2240  0.8522  0.2573\n",
      " 0.2369  0.1679  0.9709\n",
      " 0.6123  0.5646  0.4865\n",
      "[torch.FloatTensor of size 5x3]\n",
      " Variable containing:\n",
      " 4\n",
      " 0\n",
      " 1\n",
      " 2\n",
      " 4\n",
      "[torch.LongTensor of size 5]\n",
      "\n"
     ]
    }
   ],
   "source": [
    "print(x_train, y_train)"
   ]
  },
  {
   "cell_type": "markdown",
   "metadata": {},
   "source": [
    "## Evaluate our model"
   ]
  },
  {
   "cell_type": "code",
   "execution_count": 7,
   "metadata": {},
   "outputs": [],
   "source": [
    "y_hat = model(x_train)"
   ]
  },
  {
   "cell_type": "markdown",
   "metadata": {},
   "source": [
    "## Check our loss"
   ]
  },
  {
   "cell_type": "code",
   "execution_count": 8,
   "metadata": {
    "collapsed": true
   },
   "outputs": [],
   "source": [
    "criterion = nn.CrossEntropyLoss()"
   ]
  },
  {
   "cell_type": "code",
   "execution_count": 9,
   "metadata": {},
   "outputs": [
    {
     "name": "stdout",
     "output_type": "stream",
     "text": [
      "loss: 1.6610389947891235\n"
     ]
    }
   ],
   "source": [
    "loss = criterion(y_hat, y_train)\n",
    "print('loss:', loss.data[0])"
   ]
  },
  {
   "cell_type": "markdown",
   "metadata": {},
   "source": [
    "## Lets train it a bit, see if we can learn random"
   ]
  },
  {
   "cell_type": "code",
   "execution_count": 10,
   "metadata": {
    "collapsed": true
   },
   "outputs": [],
   "source": [
    "criterion = nn.CrossEntropyLoss()\n",
    "model = SimpleClassifier(n_features, hidden_size, n_classes)\n",
    "optimizer = torch.optim.Adam(model.parameters(), lr=0.1)"
   ]
  },
  {
   "cell_type": "code",
   "execution_count": 11,
   "metadata": {
    "collapsed": true
   },
   "outputs": [],
   "source": [
    "# generator that produces random data\n",
    "def data_batch_generator(n_epoch, n_examples, n_features, n_classes):\n",
    "    for i in range(n_epoch):\n",
    "        x = Variable(torch.rand(n_examples, n_features))\n",
    "        y = Variable(torch.LongTensor(n_examples).random_(n_classes))\n",
    "        yield (x, y)"
   ]
  },
  {
   "cell_type": "code",
   "execution_count": 12,
   "metadata": {},
   "outputs": [
    {
     "name": "stdout",
     "output_type": "stream",
     "text": [
      "epoch: 0, loss: 1.5883047580718994\n",
      "epoch: 1, loss: 1.613193154335022\n",
      "epoch: 2, loss: 1.6308625936508179\n",
      "epoch: 3, loss: 1.7212693691253662\n",
      "epoch: 4, loss: 1.5858738422393799\n",
      "epoch: 5, loss: 1.6628410816192627\n",
      "epoch: 6, loss: 1.5932284593582153\n",
      "epoch: 7, loss: 1.6379722356796265\n",
      "epoch: 8, loss: 1.546557068824768\n",
      "epoch: 9, loss: 1.6378053426742554\n"
     ]
    }
   ],
   "source": [
    "n_epochs = 10\n",
    "n_classes = 5\n",
    "n_features = 3\n",
    "n_examples = 5\n",
    "hidden_size = 4\n",
    "\n",
    "gen = data_batch_generator(n_epochs, n_examples, n_features, n_classes)\n",
    "\n",
    "for i, (x, y) in enumerate(gen):\n",
    "    # eval model, calculate loss\n",
    "    y_hat = model(x)\n",
    "    loss = criterion(y_hat, y)\n",
    "    print('epoch: {}, loss: {}'.format(i, loss.data[0]))\n",
    "    \n",
    "    # backprop error, update weights, zero old grads\n",
    "    loss.backward()\n",
    "    optimizer.step()\n",
    "    optimizer.zero_grad()"
   ]
  }
 ],
 "metadata": {
  "kernelspec": {
   "display_name": "Python 3",
   "language": "python",
   "name": "python3"
  },
  "language_info": {
   "codemirror_mode": {
    "name": "ipython",
    "version": 3
   },
   "file_extension": ".py",
   "mimetype": "text/x-python",
   "name": "python",
   "nbconvert_exporter": "python",
   "pygments_lexer": "ipython3",
   "version": "3.6.2"
  }
 },
 "nbformat": 4,
 "nbformat_minor": 2
}
